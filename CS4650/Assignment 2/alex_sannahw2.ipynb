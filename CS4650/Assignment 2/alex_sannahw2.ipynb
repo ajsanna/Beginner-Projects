{
 "cells": [
  {
   "cell_type": "code",
   "execution_count": 64,
   "id": "25bd8a39",
   "metadata": {},
   "outputs": [
    {
     "name": "stdout",
     "output_type": "stream",
     "text": [
      "Overwriting databaseOp.py\n"
     ]
    }
   ],
   "source": [
    "%%file databaseOp.py\n",
    "\n",
    "from mrjob.job import MRJob\n",
    "\n",
    "\n",
    "class WordFrequency(MRJob):\n",
    "\n",
    "    cols = {\"A\", \"B\", \"C\", \"D\", \"E\", \"F\", \"G\", \"H\", \"I\", \"J\"}\n",
    "    rows = {\"K\", \"L\", \"M\", \"N\", \"O\", \"P\", \"Q\", \"R\", \"S\", \"T\"}\n",
    "    \n",
    "    def mapper(self, _, line):\n",
    "        thelist = line.split()\n",
    "        for x in thelist:\n",
    "            col = x[0:1]\n",
    "            row = x[2:3]\n",
    "            value = x[4:7]\n",
    "            if int(value) > 900:\n",
    "                yield col, value\n",
    "            else:\n",
    "                yield row, value\n",
    "\n",
    "    def reducer(self, key, values):\n",
    "        cols = {\"A\", \"B\", \"C\", \"D\", \"E\", \"F\", \"G\", \"H\", \"I\", \"J\"}\n",
    "        if key in cols:\n",
    "            yield key, max(values)\n",
    "        else:\n",
    "            yield key, min(values)\n",
    "\n",
    "\n",
    "if __name__ == '__main__':\n",
    "    WordFrequency.run()"
   ]
  },
  {
   "cell_type": "code",
   "execution_count": 66,
   "id": "18c90ce9",
   "metadata": {},
   "outputs": [
    {
     "name": "stdout",
     "output_type": "stream",
     "text": [
      "No configs found; falling back on auto-configuration\n",
      "No configs specified for local runner\n",
      "Creating temp directory /var/folders/fx/spwsyt2x2t7fkh0qrj_tt39r0000gn/T/databaseOp.alexsanna.20230309.040405.209449\n",
      "Running step 1 of 1...\n",
      "job output is in /var/folders/fx/spwsyt2x2t7fkh0qrj_tt39r0000gn/T/databaseOp.alexsanna.20230309.040405.209449/output\n",
      "Streaming final output from /var/folders/fx/spwsyt2x2t7fkh0qrj_tt39r0000gn/T/databaseOp.alexsanna.20230309.040405.209449/output...\n",
      "\"T\"\t\"10\"\n",
      "\"O\"\t\"1\"\n",
      "\"L\"\t\"135\"\n",
      "\"M\"\t\"0\"\n",
      "\"N\"\t\"106\"\n",
      "\"R\"\t\"105\"\n",
      "\"G\"\t\"997\"\n",
      "\"H\"\t\"997\"\n",
      "\"I\"\t\"995\"\n",
      "\"J\"\t\"992\"\n",
      "\"K\"\t\"0\"\n",
      "\"P\"\t\"100\"\n",
      "\"Q\"\t\"0\"\n",
      "\"A\"\t\"994\"\n",
      "\"B\"\t\"999\"\n",
      "\"C\"\t\"987\"\n",
      "\"D\"\t\"995\"\n",
      "\"E\"\t\"998\"\n",
      "\"F\"\t\"997\"\n",
      "\"S\"\t\"10\"\n",
      "Removing temp directory /var/folders/fx/spwsyt2x2t7fkh0qrj_tt39r0000gn/T/databaseOp.alexsanna.20230309.040405.209449...\n"
     ]
    }
   ],
   "source": [
    "!python databaseOp.py -r local cs4650hw1.dat\n",
    "#part 1"
   ]
  },
  {
   "cell_type": "code",
   "execution_count": 93,
   "id": "aec20506",
   "metadata": {},
   "outputs": [
    {
     "name": "stdout",
     "output_type": "stream",
     "text": [
      "Overwriting databaseOpPartTwo.py\n"
     ]
    }
   ],
   "source": [
    "%%file databaseOpPartTwo.py\n",
    "\n",
    "from mrjob.job import MRJob\n",
    "\n",
    "\n",
    "class WordFrequency(MRJob):\n",
    "\n",
    "    cols = {\"A\", \"B\", \"C\", \"D\", \"E\", \"F\", \"G\", \"H\", \"I\", \"J\"}\n",
    "    rows = {\"K\", \"L\", \"M\", \"N\", \"O\", \"P\", \"Q\", \"R\", \"S\", \"T\"}\n",
    "    \n",
    "    def mapper(self, _, line):\n",
    "        thelist = line.split()\n",
    "        for x in thelist:\n",
    "            col = x[0:1]\n",
    "            row = x[2:3]\n",
    "            value = x[4:7]\n",
    "            if int(value) > 900:\n",
    "                yield col, {\"Row\": row, \"Value\": value}\n",
    "            else:\n",
    "                yield row, {\"Row\": col, \"Value\": value}\n",
    "\n",
    "    def reducer(self, key, values):\n",
    "        cols = {\"A\", \"B\", \"C\", \"D\", \"E\", \"F\", \"G\", \"H\", \"I\", \"J\"}\n",
    "        maxTemp = 0\n",
    "        storedLow = 'a'\n",
    "        storedHigh = 'z'\n",
    "        lowTemp = 100\n",
    "        for x in values:\n",
    "            temp = int(x[\"Value\"])\n",
    "            if(temp>maxTemp):\n",
    "                maxTemp = temp\n",
    "                storedHigh = x[\"Row\"]\n",
    "            elif(temp<lowTemp):\n",
    "                lowTemp = temp\n",
    "                storedLow = x[\"Row\"]\n",
    "    \n",
    "        if key in cols:\n",
    "            yield key, {\"Value\": maxTemp, \"Example\": storedHigh}\n",
    "        else: \n",
    "            yield key, {\"Value\": lowTemp, \"Example\": storedLow}\n",
    "\n",
    "        \n",
    "            \n",
    "        \n",
    "\n",
    "if __name__ == '__main__':\n",
    "    WordFrequency.run()"
   ]
  },
  {
   "cell_type": "code",
   "execution_count": 94,
   "id": "696e3b59",
   "metadata": {},
   "outputs": [
    {
     "name": "stdout",
     "output_type": "stream",
     "text": [
      "No configs found; falling back on auto-configuration\n",
      "No configs specified for local runner\n",
      "Creating temp directory /var/folders/fx/spwsyt2x2t7fkh0qrj_tt39r0000gn/T/databaseOpPartTwo.alexsanna.20230309.042320.929766\n",
      "Running step 1 of 1...\n",
      "job output is in /var/folders/fx/spwsyt2x2t7fkh0qrj_tt39r0000gn/T/databaseOpPartTwo.alexsanna.20230309.042320.929766/output\n",
      "Streaming final output from /var/folders/fx/spwsyt2x2t7fkh0qrj_tt39r0000gn/T/databaseOpPartTwo.alexsanna.20230309.042320.929766/output...\n",
      "\"T\"\t{\"Value\":2,\"Example\":\"G\"}\n",
      "\"O\"\t{\"Value\":1,\"Example\":\"H\"}\n",
      "\"L\"\t{\"Value\":3,\"Example\":\"H\"}\n",
      "\"M\"\t{\"Value\":0,\"Example\":\"E\"}\n",
      "\"N\"\t{\"Value\":13,\"Example\":\"B\"}\n",
      "\"R\"\t{\"Value\":2,\"Example\":\"F\"}\n",
      "\"G\"\t{\"Value\":997,\"Example\":\"M\"}\n",
      "\"H\"\t{\"Value\":997,\"Example\":\"P\"}\n",
      "\"I\"\t{\"Value\":995,\"Example\":\"S\"}\n",
      "\"J\"\t{\"Value\":992,\"Example\":\"K\"}\n",
      "\"K\"\t{\"Value\":0,\"Example\":\"H\"}\n",
      "\"P\"\t{\"Value\":12,\"Example\":\"B\"}\n",
      "\"Q\"\t{\"Value\":0,\"Example\":\"C\"}\n",
      "\"A\"\t{\"Value\":994,\"Example\":\"R\"}\n",
      "\"B\"\t{\"Value\":999,\"Example\":\"N\"}\n",
      "\"C\"\t{\"Value\":987,\"Example\":\"S\"}\n",
      "\"D\"\t{\"Value\":995,\"Example\":\"M\"}\n",
      "\"E\"\t{\"Value\":998,\"Example\":\"N\"}\n",
      "\"F\"\t{\"Value\":997,\"Example\":\"M\"}\n",
      "\"S\"\t{\"Value\":5,\"Example\":\"I\"}\n",
      "Removing temp directory /var/folders/fx/spwsyt2x2t7fkh0qrj_tt39r0000gn/T/databaseOpPartTwo.alexsanna.20230309.042320.929766...\n"
     ]
    }
   ],
   "source": [
    "!python databaseOpPartTwo.py -r local cs4650hw1.dat\n",
    "#part 2"
   ]
  },
  {
   "cell_type": "code",
   "execution_count": 133,
   "id": "a974c8e1",
   "metadata": {},
   "outputs": [
    {
     "name": "stdout",
     "output_type": "stream",
     "text": [
      "Overwriting databaseOpPartThree.py\n"
     ]
    }
   ],
   "source": [
    "%%file databaseOpPartThree.py\n",
    "\n",
    "from mrjob.job import MRJob\n",
    "\n",
    "\n",
    "class WordFrequency(MRJob):\n",
    "\n",
    "    cols = {\"A\", \"B\", \"C\", \"D\", \"E\", \"F\", \"G\", \"H\", \"I\", \"J\"}\n",
    "    rows = {\"K\", \"L\", \"M\", \"N\", \"O\", \"P\", \"Q\", \"R\", \"S\", \"T\"}\n",
    "    \n",
    "    def mapper(self, _, line):\n",
    "        thelist = line.split()\n",
    "        for x in thelist:\n",
    "            col = x[0:1]\n",
    "            row = x[2:3]\n",
    "            value = x[4:7]\n",
    "            if int(value) > 900:\n",
    "                yield col, {\"Row\": row, \"Value\": value}\n",
    "            else:\n",
    "                yield row, {\"Row\": col, \"Value\": value}\n",
    "\n",
    "    def reducer(self, key, values):\n",
    "        cols = {\"A\", \"B\", \"C\", \"D\", \"E\", \"F\", \"G\", \"H\", \"I\", \"J\"}\n",
    "        maxTemp = 0\n",
    "        storedLow = \"\"\n",
    "        storedHigh = \"\"\n",
    "        lowTemp = 100\n",
    "        for x in values:\n",
    "            temp = int(x[\"Value\"])\n",
    "            if(temp>maxTemp):\n",
    "                maxTemp = temp\n",
    "                storedHigh = \"[\" + x[\"Row\"]\n",
    "            elif(temp<lowTemp):\n",
    "                lowTemp = temp\n",
    "                storedLow = \"[\" + x[\"Row\"]\n",
    "            elif(temp ==maxTemp):\n",
    "                storedHigh = storedHigh + \", \" + x[\"Row\"]\n",
    "            elif(temp ==lowTemp): \n",
    "                storedHigh = storedLow + \", \" + x[\"Row\"] \n",
    "    \n",
    "        storedHigh = storedHigh + \"]\"\n",
    "        storedLow = storedLow + \"]\"\n",
    "        if key in cols:\n",
    "            yield key, {\"Value\": maxTemp, \"Example\": storedHigh}\n",
    "        else: \n",
    "            yield key, {\"Value\": lowTemp, \"Example\": storedLow}\n",
    "\n",
    "        \n",
    "            \n",
    "        \n",
    "\n",
    "if __name__ == '__main__':\n",
    "    WordFrequency.run()"
   ]
  },
  {
   "cell_type": "code",
   "execution_count": 134,
   "id": "2209bc84",
   "metadata": {},
   "outputs": [
    {
     "name": "stdout",
     "output_type": "stream",
     "text": [
      "No configs found; falling back on auto-configuration\n",
      "No configs specified for local runner\n",
      "Creating temp directory /var/folders/fx/spwsyt2x2t7fkh0qrj_tt39r0000gn/T/databaseOpPartThree.alexsanna.20230309.045258.023538\n",
      "Running step 1 of 1...\n",
      "job output is in /var/folders/fx/spwsyt2x2t7fkh0qrj_tt39r0000gn/T/databaseOpPartThree.alexsanna.20230309.045258.023538/output\n",
      "Streaming final output from /var/folders/fx/spwsyt2x2t7fkh0qrj_tt39r0000gn/T/databaseOpPartThree.alexsanna.20230309.045258.023538/output...\n",
      "\"T\"\t{\"Value\":2,\"Example\":\"[G]\"}\n",
      "\"O\"\t{\"Value\":1,\"Example\":\"[H]\"}\n",
      "\"L\"\t{\"Value\":3,\"Example\":\"[H]\"}\n",
      "\"M\"\t{\"Value\":0,\"Example\":\"[E]\"}\n",
      "\"N\"\t{\"Value\":13,\"Example\":\"[B]\"}\n",
      "\"R\"\t{\"Value\":2,\"Example\":\"[F]\"}\n",
      "\"G\"\t{\"Value\":997,\"Example\":\"[M]\"}\n",
      "\"H\"\t{\"Value\":997,\"Example\":\"[P]\"}\n",
      "\"I\"\t{\"Value\":995,\"Example\":\"[S]\"}\n",
      "\"J\"\t{\"Value\":992,\"Example\":\"[K]\"}\n",
      "\"K\"\t{\"Value\":0,\"Example\":\"[H]\"}\n",
      "\"P\"\t{\"Value\":12,\"Example\":\"[B]\"}\n",
      "\"Q\"\t{\"Value\":0,\"Example\":\"[C]\"}\n",
      "\"A\"\t{\"Value\":994,\"Example\":\"[R, P]\"}\n",
      "\"B\"\t{\"Value\":999,\"Example\":\"[N]\"}\n",
      "\"C\"\t{\"Value\":987,\"Example\":\"[S]\"}\n",
      "\"D\"\t{\"Value\":995,\"Example\":\"[M]\"}\n",
      "\"E\"\t{\"Value\":998,\"Example\":\"[N, S]\"}\n",
      "\"F\"\t{\"Value\":997,\"Example\":\"[M]\"}\n",
      "\"S\"\t{\"Value\":5,\"Example\":\"[I]\"}\n",
      "Removing temp directory /var/folders/fx/spwsyt2x2t7fkh0qrj_tt39r0000gn/T/databaseOpPartThree.alexsanna.20230309.045258.023538...\n"
     ]
    }
   ],
   "source": [
    "!python databaseOpPartThree.py -r local cs4650hw1.dat\n",
    "#part 3"
   ]
  },
  {
   "cell_type": "code",
   "execution_count": null,
   "id": "84d6d2fb",
   "metadata": {},
   "outputs": [],
   "source": []
  }
 ],
 "metadata": {
  "kernelspec": {
   "display_name": "Python 3 (ipykernel)",
   "language": "python",
   "name": "python3"
  },
  "language_info": {
   "codemirror_mode": {
    "name": "ipython",
    "version": 3
   },
   "file_extension": ".py",
   "mimetype": "text/x-python",
   "name": "python",
   "nbconvert_exporter": "python",
   "pygments_lexer": "ipython3",
   "version": "3.10.9"
  }
 },
 "nbformat": 4,
 "nbformat_minor": 5
}
