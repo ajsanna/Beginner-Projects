{
 "cells": [
  {
   "cell_type": "code",
   "execution_count": 70,
   "id": "1f3cf582",
   "metadata": {},
   "outputs": [
    {
     "name": "stdout",
     "output_type": "stream",
     "text": [
      "Overwriting database_operations.py\n"
     ]
    }
   ],
   "source": [
    "%%file database_operations.py\n",
    "\n",
    "#this is a magic command, used for creating the python file that the notebook will use. \n",
    "\n",
    "import re\n",
    "import json\n",
    "from mrjob.job import MRJob\n",
    "#quality re is a way of setting a variable to multiple values. \n",
    "QUALITY_RE = re.compile(r\"[01459]\")\n",
    "\n",
    "class TemperatureData(MRJob):\n",
    "    \n",
    "    \n",
    "    #this is my mapper. it takes in a line from the file, strips it into individual chars and performs data sorting.\n",
    "    #this one specifically arranges values into 3 variables, wind, temp and quality.\n",
    "    #to ensure quality data, tests are performed in this stage: seen in the if statement. \n",
    "    #it will yield appropriate values from each line labeled temp and count. \n",
    "    #note that count is always 1 because there can only be a max of 1 record per line. Convenient!\n",
    "    \n",
    "    def mapper(self, _, line):\n",
    "        val = line.strip()\n",
    "        (wind, temp, q) = (val[60:63], val[87:92], val[63:64])\n",
    "        if(temp != \"+9999\" and re.match(QUALITY_RE, q) and wind != \"999\"):\n",
    "            yield int(wind),{\"temp\":(int(temp)), \"count\": 1}\n",
    "            #note that this returns a dictionary data type where wind is the key and an object with values for temp and count are the values.\n",
    "            \n",
    "            \n",
    "    #This is my reducer function. it takes in the values passed along by the mapper, compares them and finalizes results. \n",
    "    #it goes through all the stored values of the dictionary to compare and calculate max, min and also give a count. \n",
    "    #this returns the labeled results as low, high and count, as well as the respective key for each. \n",
    "    def reducer(self, key, values):\n",
    "        count = 0\n",
    "        maxTemp = 0\n",
    "        lowTemp = 100\n",
    "        for x in values:\n",
    "            count += x[\"count\"]\n",
    "            temp = x[\"temp\"]\n",
    "            \n",
    "            if(temp>maxTemp):\n",
    "                maxTemp = temp\n",
    "            elif(temp<lowTemp):\n",
    "                lowTemp = temp\n",
    "        \n",
    "        yield key, {\"low\": lowTemp,\"high\": maxTemp,  \"count\": count}\n",
    "    \n",
    "            \n",
    "        \n",
    "        \n",
    "    \n",
    "if __name__ == '__main__':\n",
    "    TemperatureData.run()"
   ]
  },
  {
   "cell_type": "code",
   "execution_count": 1,
   "id": "3dfa6055",
   "metadata": {
    "scrolled": false
   },
   "outputs": [
    {
     "name": "stdout",
     "output_type": "stream",
     "text": [
      "No configs found; falling back on auto-configuration\n",
      "No configs specified for local runner\n",
      "Creating temp directory /var/folders/fx/spwsyt2x2t7fkh0qrj_tt39r0000gn/T/database_operations.alexsanna.20230224.084904.188229\n",
      "Running step 1 of 1...\n",
      "job output is in /var/folders/fx/spwsyt2x2t7fkh0qrj_tt39r0000gn/T/database_operations.alexsanna.20230224.084904.188229/output\n",
      "Streaming final output from /var/folders/fx/spwsyt2x2t7fkh0qrj_tt39r0000gn/T/database_operations.alexsanna.20230224.084904.188229/output...\n",
      "290\t{\"low\":-328,\"high\":306,\"count\":379}\n",
      "320\t{\"low\":-311,\"high\":306,\"count\":1152}\n",
      "20\t{\"low\":-272,\"high\":317,\"count\":582}\n",
      "200\t{\"low\":-183,\"high\":300,\"count\":688}\n",
      "230\t{\"low\":-228,\"high\":283,\"count\":1488}\n",
      "250\t{\"low\":-222,\"high\":311,\"count\":604}\n",
      "270\t{\"low\":-211,\"high\":278,\"count\":931}\n",
      "70\t{\"low\":-333,\"high\":278,\"count\":502}\n",
      "90\t{\"low\":-267,\"high\":272,\"count\":567}\n",
      "160\t{\"low\":-239,\"high\":289,\"count\":647}\n",
      "180\t{\"low\":-250,\"high\":294,\"count\":879}\n",
      "340\t{\"low\":-300,\"high\":311,\"count\":427}\n",
      "360\t{\"low\":-267,\"high\":289,\"count\":888}\n",
      "50\t{\"low\":-322,\"high\":306,\"count\":1039}\n",
      "110\t{\"low\":-239,\"high\":278,\"count\":296}\n",
      "140\t{\"low\":-328,\"high\":278,\"count\":1005}\n",
      "Removing temp directory /var/folders/fx/spwsyt2x2t7fkh0qrj_tt39r0000gn/T/database_operations.alexsanna.20230224.084904.188229...\n"
     ]
    }
   ],
   "source": [
    "!python database_operations.py -r local 1901 1902"
   ]
  },
  {
   "cell_type": "code",
   "execution_count": null,
   "id": "c93c0859",
   "metadata": {},
   "outputs": [],
   "source": []
  }
 ],
 "metadata": {
  "kernelspec": {
   "display_name": "Python 3 (ipykernel)",
   "language": "python",
   "name": "python3"
  },
  "language_info": {
   "codemirror_mode": {
    "name": "ipython",
    "version": 3
   },
   "file_extension": ".py",
   "mimetype": "text/x-python",
   "name": "python",
   "nbconvert_exporter": "python",
   "pygments_lexer": "ipython3",
   "version": "3.10.9"
  }
 },
 "nbformat": 4,
 "nbformat_minor": 5
}
